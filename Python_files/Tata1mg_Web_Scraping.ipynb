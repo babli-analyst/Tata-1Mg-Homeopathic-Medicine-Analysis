{
 "cells": [
  {
   "cell_type": "code",
   "execution_count": 1,
   "id": "c1f7f8bb",
   "metadata": {},
   "outputs": [],
   "source": [
    "import requests\n",
    "from bs4 import BeautifulSoup\n",
    "import pandas as pd"
   ]
  },
  {
   "cell_type": "code",
   "execution_count": 2,
   "id": "a9f9b660",
   "metadata": {},
   "outputs": [],
   "source": [
    "# Set the base URL and user agent header\n",
    "baseurl = \"https://www.1mg.com\"\n",
    "header = {\"user-agent\": \"Mozilla/5.0 (Windows NT 10.0; Win64; x64) AppleWebKit/537.36 (KHTML, like Gecko) Chrome/118.0.0.0 Safari/537.36\"}"
   ]
  },
  {
   "cell_type": "code",
   "execution_count": 88,
   "id": "056bf5e2",
   "metadata": {},
   "outputs": [],
   "source": [
    "# Create an empty list to store the links to each product page\n",
    "productlink = []\n",
    "\n",
    "# Loop through the first 20 pages \n",
    "for x in range(28,31):\n",
    "    r = requests.get(f\"https://www.1mg.com/categories/homeopathy/homeopathy-medicines-106?filter=true&pageNumber={x}\", headers=header)\n",
    "    soup = BeautifulSoup(r.text, \"html.parser\")\n",
    "    \n",
    "    # Find all of the product boxes on the current page\n",
    "    productlist = soup.find_all(\"div\",{'class':'style__product-box___liepi'})\n",
    "    \n",
    "    # Loop through each product box and extract the link to the product page\n",
    "    for item in productlist:\n",
    "        link=item.find('a',{'href':True})['href']\n",
    "        productlink.append(baseurl+link)"
   ]
  },
  {
   "cell_type": "code",
   "execution_count": 89,
   "id": "e6308311",
   "metadata": {},
   "outputs": [
    {
     "data": {
      "text/plain": [
       "159"
      ]
     },
     "execution_count": 89,
     "metadata": {},
     "output_type": "execute_result"
    }
   ],
   "source": [
    "len(productlink)\n"
   ]
  },
  {
   "cell_type": "code",
   "execution_count": null,
   "id": "e69d1bdb",
   "metadata": {},
   "outputs": [
    {
     "name": "stderr",
     "output_type": "stream",
     "text": [
      "C:\\Users\\praveen\\AppData\\Local\\Temp\\ipykernel_12800\\228477488.py:31: DeprecationWarning: The 'text' argument to find()-type methods is deprecated. Use 'string' instead.\n",
      "  key_ingredients1 = soup.find('strong', text='Key Ingredients:')\n"
     ]
    }
   ],
   "source": [
    "productlist = []\n",
    "\n",
    "# Loop through each product page and extract the relevant information\n",
    "for link in productlink:                                           \n",
    "    response = requests.get(link, headers=header) \n",
    "    soup = BeautifulSoup(response.text, \"html.parser\")\n",
    "    \n",
    "    # extract product details from webpage\n",
    "    name1 = soup.find('h1', {'class': 'ProductTitle__product-title___3QMYH'})\n",
    "    name=name1.text.strip() if name1 else \"\"\n",
    "    \n",
    "    brand_name1 = soup.find(\"div\", {\"class\": \"ProductTitle__manufacturer___sTfon\"})\n",
    "    brand_name = brand_name1.text.strip() if brand_name1 else \"\"\n",
    "    \n",
    "    price_of_the_bottle1 = soup.find(\"span\", {\"class\": \"PriceBoxPlanOption__offer-price___3v9x8 PriceBoxPlanOption__offer-price-cp___2QPU_\"})\n",
    "    price_of_the_bottle = price_of_the_bottle1.text.strip() if price_of_the_bottle1 else \"\"\n",
    "    \n",
    "    mrp_of_the_bottle1 = soup.find(\"span\", {\"class\": \"PriceBoxPlanOption__margin-right-4___2aqFt PriceBoxPlanOption__stike___pDQVN\"})\n",
    "    mrp_of_the_bottle = mrp_of_the_bottle1.text.strip() if mrp_of_the_bottle1 else \"\"\n",
    "    \n",
    "    rating1 = soup.find(\"div\", {\"class\": \"RatingDisplay__ratings-container___3oUuo\"})\n",
    "    rating = rating1.text.strip() if rating1 else \"\"\n",
    "    \n",
    "      \n",
    "    number_of_rating1 = soup.find(\"span\", {\"class\": \"RatingDisplay__ratings-header___ZNj5b\"})\n",
    "    number_of_rating = number_of_rating1.text.strip() if number_of_rating1 else \"\"\n",
    "    \n",
    "    size_of_the_bottle1 = soup.find(\"span\", {\"class\": \"PackSizeLabel__single-packsize___3KEr_\"})\n",
    "    size_of_the_bottle = size_of_the_bottle1.text.strip() if size_of_the_bottle1 else \"\"\n",
    "    \n",
    "    key_ingredients1 = soup.find('strong', text='Key Ingredients:')\n",
    "    key_ingredients = key_ingredients1.find_next('ul').text.strip() if key_ingredients1 else \"\"\n",
    "    \n",
    "    key_benifits1 = soup.find(\"div\", {\"class\": \"ProductHighlights__highlights-text___dc-WQ\"})\n",
    "    key_benifits = key_benifits1.text.strip() if key_benifits1 else \"\"\n",
    "    \n",
    "      # categorize key_benefits based on keywords\n",
    "    category = \"\"\n",
    "    \n",
    "    if any(keyword in key_benifits.lower() for keyword in [\"ear\", \"nose\",\"tongue\",\"runny nose\",\"ear pain\"]):\n",
    "        category = \"ENT\"\n",
    "        \n",
    "    elif any(keyword in key_benifits.lower() for keyword in [\"eye\", \"vision\",\"nausea\", \"vomiting\"]):\n",
    "        category = \"Eye Care\"\n",
    "        \n",
    "    elif any(keyword in key_benifits.lower() for keyword in [\"bone\", \"joint\",\"muscle\",\"neck\",\"shoulder\"]):\n",
    "        category = \"Joint\"\n",
    "    \n",
    "    elif any(keyword in key_benifits.lower() for keyword in [\"tooth\", \"teeth\"]):\n",
    "        category = \"Dental care\" \n",
    "        \n",
    "    elif any(keyword in key_benifits.lower() for keyword in [\"throat\", \"tonsil\",\"pharyngitis\",\"soreness\"]):\n",
    "        category = \"Throat care\"\n",
    "        \n",
    "    elif any(keyword in key_benifits.lower() for keyword in [\"diabetes\", \"sugar\", \"blood pressure\"]):\n",
    "        category = \"Diabetes\" \n",
    "        \n",
    "    elif any(keyword in key_benifits.lower() for keyword in [\"heart\", \"cardiace\"]):\n",
    "        category = \"Heart\"  \n",
    "        \n",
    "    elif any(keyword in key_benifits.lower() for keyword in [\"digestion\", \"constipation\", \"stomach\",\"intestine\",\"gut\",\n",
    "                                                            \"metabolism\",\"metabolic\"]):\n",
    "        category = \"Digestion\"  \n",
    "        \n",
    "    elif any(keyword in key_benifits.lower() for keyword in [\"kidney\", \"urine\", \"kidney stone\",\"bladder\",\"urinary\"]):\n",
    "        category = \"kidney\"\n",
    "    \n",
    "    elif any(keyword in key_benifits.lower() for keyword in [\"fever\", \"cough\", \"cold\",\"shivering\",\"headache\", \"dengue\"]):\n",
    "        category = \"Fever\"\n",
    "    \n",
    "    elif any(keyword in key_benifits.lower() for keyword in [\"liver\",\"enlarged liver\", \"liver cyst\", \"jaundice\", \"Cirrhosis\",\n",
    "                                                             \"cholangitis\", \"abscess\", \"hepatitis\", \"galactosemia\",\"Alagille\"]):\n",
    "        category = \"Liver\"\n",
    "    \n",
    "    elif any(keyword in key_benifits.lower() for keyword in [\"hair\", \"dandruff\", \"beard\",\"keratin\",\"scalp\"]):\n",
    "        category = \"Hair care\"\n",
    "        \n",
    "    elif any(keyword in key_benifits.lower() for keyword in [\"itching\", \"skin\", \"acne\", \"pimple\",\"inflammation\", \"scars\",\n",
    "                                                            \"eczema\", \"lighten\",\"complexation\",\"spots\"]):\n",
    "        category = \"Skin care\"\n",
    "    \n",
    "   \n",
    "    elif any(keyword in key_benifits.lower() for keyword in [\"stress\", \"depression\",\"mental\",\"nerve\",\"neuron\", \"nervous\",\n",
    "                                                            \"depressed\"]):\n",
    "        category = \"Mental wellness\"\n",
    "    \n",
    "    elif any(keyword in key_benifits.lower() for keyword in [\"health supplement\", \"weakness\",\"vitamin deficiency\", \"protein\",\n",
    "                                                            \"vigour\", \"vitality\",\"growth\"]):\n",
    "        category = \"Health supplement\"\n",
    "    \n",
    "     \n",
    "    \n",
    "    # create a dictionary of product details\n",
    "    data= {'name': name,\n",
    "            'brand_name': brand_name,\n",
    "            'price_of_the_bottle': price_of_the_bottle,\n",
    "            'mrp_of_the_bottle': mrp_of_the_bottle,\n",
    "            'rating': rating,\n",
    "            'number_of_rating': number_of_rating,\n",
    "            'size_of_the_bottle': size_of_the_bottle,\n",
    "            'key_ingredients': key_ingredients,\n",
    "            'key_benifits': key_benifits,\n",
    "            'category': category \n",
    "            }\n",
    "    \n",
    "    productlist.append(data)\n",
    "    \n",
    "df = pd.DataFrame(productlist)"
   ]
  },
  {
   "cell_type": "code",
   "execution_count": null,
   "id": "7abee25b",
   "metadata": {},
   "outputs": [],
   "source": [
    "df"
   ]
  },
  {
   "cell_type": "code",
   "execution_count": 87,
   "id": "98e51b80",
   "metadata": {},
   "outputs": [],
   "source": [
    "df.to_csv('tata1mg_scrap_data.csv')"
   ]
  },
  {
   "cell_type": "code",
   "execution_count": null,
   "id": "01129e8a",
   "metadata": {},
   "outputs": [],
   "source": []
  }
 ],
 "metadata": {
  "kernelspec": {
   "display_name": "Python 3 (ipykernel)",
   "language": "python",
   "name": "python3"
  },
  "language_info": {
   "codemirror_mode": {
    "name": "ipython",
    "version": 3
   },
   "file_extension": ".py",
   "mimetype": "text/x-python",
   "name": "python",
   "nbconvert_exporter": "python",
   "pygments_lexer": "ipython3",
   "version": "3.11.1"
  }
 },
 "nbformat": 4,
 "nbformat_minor": 5
}
